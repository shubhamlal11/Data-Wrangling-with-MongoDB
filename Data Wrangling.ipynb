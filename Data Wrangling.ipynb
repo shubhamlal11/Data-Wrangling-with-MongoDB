{
 "cells": [
  {
   "cell_type": "code",
   "execution_count": 11,
   "metadata": {
    "collapsed": false
   },
   "outputs": [
    {
     "name": "stdout",
     "output_type": "stream",
     "text": [
      "{'bounds': 1,\n",
      " 'member': 8444,\n",
      " 'nd': 536351,\n",
      " 'node': 470060,\n",
      " 'osm': 1,\n",
      " 'relation': 126,\n",
      " 'tag': 112613,\n",
      " 'way': 40396}\n"
     ]
    }
   ],
   "source": [
    "import xml.etree.cElementTree as ET\n",
    "import pprint\n",
    "\n",
    "dic = {}\n",
    "filename = 'mumbai.osm'\n",
    "for event, element in ET.iterparse(filename):\n",
    "    if element.tag in dic:\n",
    "        dic[element.tag] +=1\n",
    "    else:\n",
    "        dic[element.tag] = 1\n",
    "pprint.pprint(dic)        "
   ]
  },
  {
   "cell_type": "code",
   "execution_count": 3,
   "metadata": {
    "collapsed": false
   },
   "outputs": [
    {
     "name": "stdout",
     "output_type": "stream",
     "text": [
      "{'lower': 108481, 'lower_colon': 3270, 'other': 842, 'problemchars': 20}\n"
     ]
    }
   ],
   "source": [
    "import re\n",
    "import xml.etree.cElementTree as ET\n",
    "import pprint\n",
    "filename = 'mumbai.osm'\n",
    "\n",
    "lower = re.compile(r'^([a-z]|_)*$')\n",
    "lower_colon = re.compile(r'^([a-z]|_)*:([a-z]|_)*$')\n",
    "problemchars = re.compile(r'[=\\+/&<>;\\'\"\\?%#$@\\,\\. \\t\\r\\n]')\n",
    "\n",
    "keys = {'lower' : 0, 'lower_colon' : 0, 'problemchars' : 0, 'other' : 0}\n",
    "\n",
    "for event, element in ET.iterparse(filename):\n",
    "    if element.tag == 'tag':\n",
    "        d = element.attrib['k']\n",
    "        flag = 0\n",
    "        if(re.match(lower,d)):\n",
    "            keys['lower']+=1\n",
    "            flag = 1\n",
    "        elif(re.match(lower_colon,d)):\n",
    "            keys['lower_colon']+=1\n",
    "            flag = 1\n",
    "        \n",
    "        if flag==0:\n",
    "            for c in d:\n",
    "                if(re.match(problemchars, c)):\n",
    "                    keys['problemchars']+=1\n",
    "                    flag = 2\n",
    "                    break\n",
    "                    \n",
    "        if flag ==0:\n",
    "            keys['other'] +=1\n",
    "        pass\n",
    "\n",
    "pprint.pprint(keys)"
   ]
  },
  {
   "cell_type": "code",
   "execution_count": 6,
   "metadata": {
    "collapsed": false
   },
   "outputs": [
    {
     "name": "stdout",
     "output_type": "stream",
     "text": [
      "462\n"
     ]
    }
   ],
   "source": [
    "import re\n",
    "import xml.etree.cElementTree as ET\n",
    "import pprint\n",
    "filename = 'mumbai.osm'\n",
    "\n",
    "users = set()\n",
    "for event, element in ET.iterparse(filename):\n",
    "    try:\n",
    "        users.add(element.attrib['uid'])\n",
    "    except:\n",
    "        pass\n",
    "pprint.pprint(len(users))        "
   ]
  },
  {
   "cell_type": "code",
   "execution_count": 37,
   "metadata": {
    "collapsed": false
   },
   "outputs": [
    {
     "name": "stdout",
     "output_type": "stream",
     "text": [
      "set(['addr:city',\n",
      "     'addr:country',\n",
      "     'addr:full',\n",
      "     'addr:housename',\n",
      "     'addr:housenumber',\n",
      "     'addr:postcode',\n",
      "     'addr:state',\n",
      "     'addr:street',\n",
      "     'addr:unit',\n",
      "     'building:levels',\n",
      "     'fuel:biodiesel',\n",
      "     'fuel:biogas',\n",
      "     'fuel:cng',\n",
      "     'fuel:diesel',\n",
      "     'fuel:electricity',\n",
      "     'fuel:lpg',\n",
      "     'gns:dsg',\n",
      "     'gns:uni',\n",
      "     'internet_access:fee',\n",
      "     'is_in:city',\n",
      "     'is_in:continent',\n",
      "     'is_in:country',\n",
      "     'is_in:country_code',\n",
      "     'is_in:county',\n",
      "     'is_in:state',\n",
      "     'name:',\n",
      "     'name:bn',\n",
      "     'name:cs',\n",
      "     'name:de',\n",
      "     'name:en',\n",
      "     'name:es',\n",
      "     'name:fr',\n",
      "     'name:gu',\n",
      "     'name:hi',\n",
      "     'name:jbo',\n",
      "     'name:kn',\n",
      "     'name:ma',\n",
      "     'name:mr',\n",
      "     'name:pl',\n",
      "     'name:pt',\n",
      "     'name:ru',\n",
      "     'name:sk',\n",
      "     'name:sr',\n",
      "     'name:ta',\n",
      "     'name:te',\n",
      "     'oneway:bicycle',\n",
      "     'payment:bitcoin',\n",
      "     'place:cca',\n",
      "     'ref:new',\n",
      "     'seamark:fixme',\n",
      "     'seamark:longname',\n",
      "     'seamark:name',\n",
      "     'seamark:topmark',\n",
      "     'seamark:type',\n",
      "     'ship:type',\n",
      "     'shop:type',\n",
      "     'source:position',\n",
      "     'source:tracer',\n",
      "     'source:url',\n",
      "     'source:zoomlevel',\n",
      "     'tower:type',\n",
      "     'turn:lanes',\n",
      "     'wp:foot',\n",
      "     'wp:highway',\n",
      "     'wp:rampatbeg',\n",
      "     'wp:rampatend'])\n"
     ]
    }
   ],
   "source": [
    "import re\n",
    "import xml.etree.cElementTree as ET\n",
    "import pprint\n",
    "filename = 'mumbai.osm'\n",
    "\n",
    "lower_colon = re.compile(r'^([a-z]|_)*:([a-z]|_)*$')\n",
    "\n",
    "unique_colon_keys = set()\n",
    "\n",
    "for event, element in ET.iterparse(filename):    \n",
    "    if element.tag == \"tag\":\n",
    "        d = element.attrib['k']\n",
    "        if re.match(lower_colon,d):\n",
    "            unique_colon_keys.add(d)\n",
    "            \n",
    "pprint.pprint(unique_colon_keys)\n",
    "    "
   ]
  },
  {
   "cell_type": "code",
   "execution_count": 15,
   "metadata": {
    "collapsed": false
   },
   "outputs": [
    {
     "name": "stdout",
     "output_type": "stream",
     "text": [
      "set(['addr',\n",
      "     'building',\n",
      "     'fuel',\n",
      "     'gns',\n",
      "     'internet_access',\n",
      "     'is_in',\n",
      "     'name',\n",
      "     'oneway',\n",
      "     'payment',\n",
      "     'place',\n",
      "     'ref',\n",
      "     'seamark',\n",
      "     'ship',\n",
      "     'shop',\n",
      "     'source',\n",
      "     'tower',\n",
      "     'turn',\n",
      "     'wp'])\n"
     ]
    }
   ],
   "source": [
    "import re\n",
    "import xml.etree.cElementTree as ET\n",
    "import pprint\n",
    "filename = 'mumbai.osm'\n",
    "\n",
    "lower_colon = re.compile(r'^([a-z]|_)*:([a-z]|_)*$')\n",
    "colon_keys = set()\n",
    "\n",
    "for event, element in ET.iterparse(filename):     \n",
    "    if element.tag == \"tag\":\n",
    "        d = element.attrib['k']\n",
    "        if re.match(lower_colon,d):\n",
    "            l = d.split(':')\n",
    "            colon_keys.add(l[0])\n",
    "pprint.pprint(colon_keys)            \n",
    "           \n",
    "            "
   ]
  },
  {
   "cell_type": "code",
   "execution_count": 6,
   "metadata": {
    "collapsed": false
   },
   "outputs": [
    {
     "name": "stdout",
     "output_type": "stream",
     "text": [
      "{'addr': 2155,\n",
      " 'building': 28,\n",
      " 'fuel': 31,\n",
      " 'gns': 4,\n",
      " 'internet_access': 3,\n",
      " 'is_in': 24,\n",
      " 'name': 241,\n",
      " 'oneway': 1,\n",
      " 'payment': 1,\n",
      " 'place': 1,\n",
      " 'ref': 462,\n",
      " 'seamark': 136,\n",
      " 'ship': 1,\n",
      " 'shop': 21,\n",
      " 'source': 153,\n",
      " 'tower': 3,\n",
      " 'turn': 1,\n",
      " 'wp': 4}\n"
     ]
    }
   ],
   "source": [
    "import re\n",
    "import xml.etree.cElementTree as ET\n",
    "import pprint\n",
    "filename = 'mumbai.osm'\n",
    "\n",
    "lower_colon = re.compile(r'^([a-z]|_)*:([a-z]|_)*$')\n",
    "names = {}\n",
    "\n",
    "for event, element in ET.iterparse(filename):\n",
    "    keys = names.keys()\n",
    "    if element.tag == \"tag\":\n",
    "        d = element.attrib['k']\n",
    "        if re.match(lower_colon,d):\n",
    "            l = d.split(':')\n",
    "            if l[0] in keys:\n",
    "                names[l[0]] +=1\n",
    "            else:\n",
    "                names[l[0]] = 1\n",
    "pprint.pprint(names) "
   ]
  },
  {
   "cell_type": "code",
   "execution_count": 16,
   "metadata": {
    "collapsed": false,
    "scrolled": true
   },
   "outputs": [
    {
     "name": "stdout",
     "output_type": "stream",
     "text": [
      "['name',\n",
      " 'place',\n",
      " 'source',\n",
      " 'is_in',\n",
      " 'ref',\n",
      " 'shop',\n",
      " 'building',\n",
      " 'internet_access',\n",
      " 'oneway',\n",
      " 'fuel',\n",
      " 'gns',\n",
      " 'addr']\n"
     ]
    }
   ],
   "source": [
    "colon_keys_indiv = []\n",
    "for event, element in ET.iterparse(filename):\n",
    "    for child in element:\n",
    "        if child.tag == 'tag':\n",
    "            if child.attrib['k'] in colon_keys:\n",
    "                if child.attrib['k'] not in colon_keys_indiv:\n",
    "                    colon_keys_indiv.append(child.attrib['k'])\n",
    "colon_keys_indiv.append('gns')\n",
    "colon_keys_indiv.append('addr')\n",
    "\n",
    "pprint.pprint(colon_keys_indiv)"
   ]
  },
  {
   "cell_type": "code",
   "execution_count": 17,
   "metadata": {
    "collapsed": false,
    "scrolled": true
   },
   "outputs": [
    {
     "name": "stdout",
     "output_type": "stream",
     "text": [
      "{'addr': 'Address',\n",
      " 'building': 'Building',\n",
      " 'fuel': 'Fuel',\n",
      " 'gns': 'GEOnet Name Server',\n",
      " 'internet_access': 'Internet_Access',\n",
      " 'is_in': 'Is_in',\n",
      " 'name': 'Current_name',\n",
      " 'oneway': 'Oneway',\n",
      " 'place': 'Place',\n",
      " 'ref': 'Reference',\n",
      " 'shop': 'Shop',\n",
      " 'source': 'Source'}\n"
     ]
    }
   ],
   "source": [
    "colon_keys_indiv_cov = ['Current_name', 'Place', 'Source', 'Is_in', 'Reference', 'Shop', 'Building', 'Internet_Access',\n",
    "                       'Oneway', 'Fuel', 'GEOnet Name Server', 'Address']\n",
    "colon_keys_map = {}\n",
    "i = 0\n",
    "while i < len(colon_keys_indiv_cov):\n",
    "    colon_keys_map[colon_keys_indiv[i]] = colon_keys_indiv_cov[i]\n",
    "    i+=1\n",
    "    \n",
    "pprint.pprint(colon_keys_map)    "
   ]
  },
  {
   "cell_type": "code",
   "execution_count": 4,
   "metadata": {
    "collapsed": false
   },
   "outputs": [
    {
     "name": "stdout",
     "output_type": "stream",
     "text": [
      "set(['bounds', 'node', 'relation', 'way'])\n"
     ]
    }
   ],
   "source": [
    "import re\n",
    "import xml.etree.cElementTree as ET\n",
    "import pprint\n",
    "filename = 'mumbai.osm'\n",
    "\n",
    "s = set()\n",
    "for  event, element in ET.iterparse(filename):\n",
    "    if element.tag == 'osm':\n",
    "        for child in element:\n",
    "            s.add(child.tag)\n",
    "pprint.pprint(s)            "
   ]
  },
  {
   "cell_type": "code",
   "execution_count": 16,
   "metadata": {
    "collapsed": false
   },
   "outputs": [
    {
     "name": "stdout",
     "output_type": "stream",
     "text": [
      "defaultdict(<type 'set'>, {'node': set(['tag']), 'relation': set(['member', 'tag']), 'way': set(['tag', 'nd'])})\n"
     ]
    }
   ],
   "source": [
    "from collections import defaultdict\n",
    "dict = defaultdict(set)\n",
    "\n",
    "for event, element in ET.iterparse(filename):\n",
    "    if element.tag in s:        \n",
    "        for child in element:\n",
    "            dict[element.tag].add(child.tag)\n",
    "pprint.pprint(dict)            "
   ]
  },
  {
   "cell_type": "code",
   "execution_count": 18,
   "metadata": {
    "collapsed": false
   },
   "outputs": [
    {
     "name": "stdout",
     "output_type": "stream",
     "text": [
      "['bn',\n",
      " 'cs',\n",
      " 'de',\n",
      " 'en',\n",
      " 'es',\n",
      " 'fr',\n",
      " 'gu',\n",
      " 'hi',\n",
      " 'jbo',\n",
      " 'kn',\n",
      " 'mr',\n",
      " 'ru',\n",
      " 'sk',\n",
      " 'sr',\n",
      " 'ta',\n",
      " 'te',\n",
      " 'pt',\n",
      " 'ma',\n",
      " '',\n",
      " 'pl']\n"
     ]
    }
   ],
   "source": [
    "name_list = []\n",
    "for event, element in ET.iterparse(filename):\n",
    "    if element.tag == 'tag':\n",
    "        if 'name:' in element.attrib['k']:\n",
    "            full_name = element.attrib['k']\n",
    "            name_splt = full_name.split(':')\n",
    "            if name_splt[1] not in name_list:\n",
    "                name_list.append(name_splt[1])\n",
    "pprint.pprint(name_list)                "
   ]
  },
  {
   "cell_type": "code",
   "execution_count": 19,
   "metadata": {
    "collapsed": false
   },
   "outputs": [
    {
     "name": "stdout",
     "output_type": "stream",
     "text": [
      "True\n"
     ]
    }
   ],
   "source": [
    "real_name_list = ['Bengali', 'Czech', 'German', 'English', 'Spanish', 'French', 'Gujrati', 'Hindi', 'Lobjan', 'Kanada',\n",
    "                  'Marathi', 'Russian', 'Slovak', 'Serbian', 'Tamil', 'Telugu', 'Portuguese', 'Arabic', None, 'Polish']\n",
    "if len(real_name_list) == len(name_list):\n",
    "    print True\n",
    "else:\n",
    "    print False"
   ]
  },
  {
   "cell_type": "code",
   "execution_count": 20,
   "metadata": {
    "collapsed": false
   },
   "outputs": [
    {
     "name": "stdout",
     "output_type": "stream",
     "text": [
      "{'': None,\n",
      " 'bn': 'Bengali',\n",
      " 'cs': 'Czech',\n",
      " 'de': 'German',\n",
      " 'en': 'English',\n",
      " 'es': 'Spanish',\n",
      " 'fr': 'French',\n",
      " 'gu': 'Gujrati',\n",
      " 'hi': 'Hindi',\n",
      " 'jbo': 'Lobjan',\n",
      " 'kn': 'Kanada',\n",
      " 'ma': 'Arabic',\n",
      " 'mr': 'Marathi',\n",
      " 'pl': 'Polish',\n",
      " 'pt': 'Portuguese',\n",
      " 'ru': 'Russian',\n",
      " 'sk': 'Slovak',\n",
      " 'sr': 'Serbian',\n",
      " 'ta': 'Tamil',\n",
      " 'te': 'Telugu'}\n"
     ]
    }
   ],
   "source": [
    "name_matches = {}\n",
    "for i in range(len(real_name_list)):\n",
    "    name_matches[name_list[i]] = real_name_list[i]\n",
    "pprint.pprint(name_matches)    "
   ]
  },
  {
   "cell_type": "code",
   "execution_count": 24,
   "metadata": {
    "collapsed": false
   },
   "outputs": [
    {
     "name": "stdout",
     "output_type": "stream",
     "text": [
      "['admin_level',\n",
      " 'ele',\n",
      " 'is_capital',\n",
      " 'name',\n",
      " 'old_name',\n",
      " 'place',\n",
      " 'population',\n",
      " 'rank',\n",
      " 'source',\n",
      " 'aerodrome',\n",
      " 'aeroway',\n",
      " 'iata',\n",
      " 'icao',\n",
      " 'is_in',\n",
      " 'passengers',\n",
      " 'type',\n",
      " 'created_by',\n",
      " 'railway',\n",
      " 'operator',\n",
      " 'platforms',\n",
      " 'barrier',\n",
      " 'public_transport',\n",
      " 'AND_a_nosr_p',\n",
      " 'postal_code',\n",
      " 'highway',\n",
      " 'amenity',\n",
      " 'tourism',\n",
      " 'noexit',\n",
      " 'junction',\n",
      " 'alt_name',\n",
      " 'landuse',\n",
      " 'ref',\n",
      " 'religion',\n",
      " 'shop',\n",
      " 'note',\n",
      " 'denomination',\n",
      " 'historic',\n",
      " 'leisure',\n",
      " 'phone',\n",
      " 'landmark',\n",
      " 'emergency',\n",
      " 'building',\n",
      " 'charge',\n",
      " 'natural',\n",
      " 'atm',\n",
      " 'access',\n",
      " 'waterway',\n",
      " 'route',\n",
      " 'cuisine',\n",
      " 'parking',\n",
      " 'stars',\n",
      " 'wpt_description',\n",
      " 'taxi',\n",
      " 'man_made',\n",
      " 'date',\n",
      " 'fixme',\n",
      " 'earthquake_damage',\n",
      " 'disused',\n",
      " 'wheelchair',\n",
      " 'url',\n",
      " 'bicycle',\n",
      " 'foot',\n",
      " 'horse',\n",
      " 'motorcar',\n",
      " 'motorcycle',\n",
      " 'sport',\n",
      " 'designation',\n",
      " 'capacity',\n",
      " 'fee',\n",
      " 'goods',\n",
      " 'int_name',\n",
      " 'area',\n",
      " 'wikipedia',\n",
      " 'Consulate',\n",
      " 'website',\n",
      " 'description',\n",
      " 'internet_access',\n",
      " 'wpt_symbol',\n",
      " 'construction',\n",
      " 'microbrewery',\n",
      " 'smoking',\n",
      " 'attraction',\n",
      " 'brand',\n",
      " 'crossing',\n",
      " 'layer',\n",
      " 'email',\n",
      " 'power',\n",
      " 'cmt',\n",
      " 'sym',\n",
      " 'dispensing',\n",
      " 'Cable TV Provider',\n",
      " 'EState Consultants',\n",
      " 'train',\n",
      " 'local_ref',\n",
      " 'drive_in',\n",
      " 'drive_through',\n",
      " 'opening_hours',\n",
      " 'indoor',\n",
      " 'level',\n",
      " 'wifi',\n",
      " 'merge_id',\n",
      " 'bench',\n",
      " 'shelter',\n",
      " 'tactile_paving',\n",
      " 'covered',\n",
      " 'motor_vehicle',\n",
      " 'bus',\n",
      " 'shirdi',\n",
      " 'Sahakari Bhandar',\n",
      " 'Gym',\n",
      " 'business Park',\n",
      " 'office',\n",
      " 'Mangeshi Dham',\n",
      " 'Name',\n",
      " 'design',\n",
      " 'collection_times',\n",
      " 'AREA',\n",
      " 'Amenity',\n",
      " 'City',\n",
      " 'rental',\n",
      " 'repair',\n",
      " 'sale',\n",
      " 'girth',\n",
      " 'family',\n",
      " 'Family',\n",
      " 'electrified',\n",
      " 'frequency',\n",
      " 'gauge',\n",
      " 'voltage',\n",
      " 'service',\n",
      " 'oneway',\n",
      " 'tunnel',\n",
      " 'FIXME',\n",
      " 'wetland',\n",
      " 'bridge',\n",
      " 'AND_a_w',\n",
      " 'boat',\n",
      " 'AND_a_i',\n",
      " 'loc_name',\n",
      " 'AND_a_c',\n",
      " 'AND_a_nosr_r',\n",
      " 'lanes',\n",
      " 'motorroad',\n",
      " 'surface',\n",
      " 'maxspeed',\n",
      " 'toll',\n",
      " 'lit',\n",
      " 'cycleway',\n",
      " 'embankment',\n",
      " 'sidewalk',\n",
      " 'street parking',\n",
      " 'alternative_name',\n",
      " 'noname',\n",
      " 'new_name',\n",
      " 'vehicle',\n",
      " 'abutters',\n",
      " 'incline',\n",
      " 'steps',\n",
      " 'hgv',\n",
      " 'military',\n",
      " 'step_count',\n",
      " 'width',\n",
      " 'place_name',\n",
      " 'direction',\n",
      " 'height',\n",
      " 'footway',\n",
      " 'tracktype',\n",
      " 'count',\n",
      " 'fax',\n",
      " 'managed',\n",
      " 'tidal',\n",
      " 'usage',\n",
      " 'ford',\n",
      " 'maxheight',\n",
      " 'boundary',\n",
      " 'no_name',\n",
      " 'lay',\n",
      " 'protect_class',\n",
      " 'postcode',\n",
      " 'seasonal',\n",
      " 'social_facility',\n",
      " 'residential',\n",
      " 'Community Centre',\n",
      " 'faculty',\n",
      " 'School',\n",
      " 'proposed',\n",
      " 'Area details ',\n",
      " 'ara',\n",
      " 'bridge_name',\n",
      " 'cables',\n",
      " 'wires',\n",
      " 'University',\n",
      " 'start_date',\n",
      " 'traffic_sign',\n",
      " 'trail_visibility',\n",
      " 'cutting',\n",
      " 'bu',\n",
      " 'water',\n",
      " 'number',\n",
      " 'landcover',\n",
      " 'toilets',\n",
      " 'road',\n",
      " 'Golden Park',\n",
      " 'maneshi dham',\n",
      " 'mangeshi dham',\n",
      " 'public_access',\n",
      " 'name-hi',\n",
      " 'content',\n",
      " 'fuel',\n",
      " 'park_ride',\n",
      " 'supervised',\n",
      " 'watland',\n",
      " 'network',\n",
      " 'ISO3166-2',\n",
      " 'restriction',\n",
      " 'from',\n",
      " 'to',\n",
      " 'route_master',\n",
      " 'destination']\n"
     ]
    }
   ],
   "source": [
    "tag_keys = []\n",
    "for event, element in ET.iterparse(filename):\n",
    "    if element.tag == 'tag':\n",
    "        if ':' not in element.attrib['k']:\n",
    "            if element.attrib['k'] not in tag_keys:\n",
    "                tag_keys.append(element.attrib['k'])\n",
    "pprint.pprint(tag_keys)"
   ]
  },
  {
   "cell_type": "code",
   "execution_count": 80,
   "metadata": {
    "collapsed": false
   },
   "outputs": [
    {
     "name": "stdout",
     "output_type": "stream",
     "text": [
      "Postal Code List - \n",
      "\n",
      "\n",
      "set(['400001',\n",
      "     '400002',\n",
      "     '400003',\n",
      "     '400004',\n",
      "     '400005',\n",
      "     '400006',\n",
      "     '400007',\n",
      "     '400008',\n",
      "     '400009',\n",
      "     '400011',\n",
      "     '400013',\n",
      "     '400018',\n",
      "     '400020',\n",
      "     '400021',\n",
      "     '400023',\n",
      "     '400026',\n",
      "     '40003',\n",
      "     '400034',\n",
      "     '400036',\n",
      "     '40013',\n",
      "     '400702',\n",
      "     '401200',\n",
      "     '401204',\n",
      "     '402106',\n",
      "     '402200',\n",
      "     '402202',\n",
      "     '402203',\n",
      "     '402204',\n",
      "     '410200',\n",
      "     '410201',\n",
      "     '410202',\n",
      "     '410205',\n",
      "     '410210',\n",
      "     '410218',\n",
      "     '410300',\n",
      "     '410400',\n",
      "     '410401',\n",
      "     '421100',\n",
      "     '421301',\n",
      "     '421302',\n",
      "     '421501',\n",
      "     '421503',\n",
      "     '421601',\n",
      "     '421604'])\n",
      "Postcode List - \n",
      "\n",
      "\n",
      "set(['400008'])\n",
      "Addr:postcode List - \n",
      "\n",
      "\n",
      "set([' 410201',\n",
      "     '400 022',\n",
      "     '400 601',\n",
      "     '400001',\n",
      "     '400005',\n",
      "     '400007',\n",
      "     '400010',\n",
      "     '400013',\n",
      "     '400016',\n",
      "     '400018',\n",
      "     '400019',\n",
      "     '400020',\n",
      "     '400021',\n",
      "     '400022',\n",
      "     '400030',\n",
      "     '400033',\n",
      "     '400034',\n",
      "     '400035',\n",
      "     '400036',\n",
      "     '400038',\n",
      "     '400039',\n",
      "     '400043',\n",
      "     '400047',\n",
      "     '400049',\n",
      "     '400050',\n",
      "     '400052',\n",
      "     '400053',\n",
      "     '400054',\n",
      "     '400056',\n",
      "     '400057',\n",
      "     '400058',\n",
      "     '4000607',\n",
      "     '400061',\n",
      "     '400062',\n",
      "     '400063',\n",
      "     '400064',\n",
      "     '400066',\n",
      "     '400067',\n",
      "     '400068',\n",
      "     '400069',\n",
      "     '400071',\n",
      "     '400072',\n",
      "     '400074',\n",
      "     '400076',\n",
      "     '400076, India',\n",
      "     '400077',\n",
      "     '400078',\n",
      "     '400080',\n",
      "     '400086',\n",
      "     '400087',\n",
      "     '400088',\n",
      "     '400089',\n",
      "     '400091',\n",
      "     '400093',\n",
      "     '400096',\n",
      "     '400098',\n",
      "     '400101',\n",
      "     '400102',\n",
      "     '400103',\n",
      "     '40049',\n",
      "     '40058',\n",
      "     '400601',\n",
      "     '400606',\n",
      "     '400607',\n",
      "     '400610',\n",
      "     '400614',\n",
      "     '400705',\n",
      "     '400706',\n",
      "     '401104 ',\n",
      "     '401202',\n",
      "     '401203',\n",
      "     '401303',\n",
      "     '410 201',\n",
      "     '410210',\n",
      "     '410701',\n",
      "     '421202',\n",
      "     '421501',\n",
      "     '421503',\n",
      "     '63103'])\n"
     ]
    }
   ],
   "source": [
    "postal_code_list = set()\n",
    "postcode_list = set()\n",
    "addr_postcode_list = set()\n",
    "for event, element in ET.iterparse(filename):\n",
    "    if element.tag == \"tag\":\n",
    "        if element.attrib['k'] == 'postal_code':            \n",
    "            postal_code_list.add(element.attrib['v'])\n",
    "        elif element.attrib['k'] == 'addr:postcode':\n",
    "            addr_postcode_list.add(element.attrib['v'])\n",
    "        elif element.attrib['k'] == 'postcode':\n",
    "            postcode_list.add(element.attrib['v'])\n",
    "print \"Postal Code List - \\n\\n\"\n",
    "pprint.pprint(postal_code_list)\n",
    "print \"Postcode List - \\n\\n\"\n",
    "pprint.pprint(postcode_list)\n",
    "print \"Addr:postcode List - \\n\\n\"\n",
    "pprint.pprint(addr_postcode_list)\n"
   ]
  },
  {
   "cell_type": "code",
   "execution_count": 81,
   "metadata": {
    "collapsed": false
   },
   "outputs": [
    {
     "name": "stdout",
     "output_type": "stream",
     "text": [
      "0\n"
     ]
    }
   ],
   "source": [
    "l = 0\n",
    "ans = 0\n",
    "ls = []\n",
    "for event, element in ET.iterparse(filename):\n",
    "    if element in ['node', 'way']:\n",
    "        l = 0\n",
    "        ls = []\n",
    "        for child in element:\n",
    "            if child.tag == 'tag':\n",
    "                if child.attrib['k'] in ['postal_code', 'addr:postcode', 'postcode']:\n",
    "                    ls.append(child.attrib['v'])\n",
    "        if len(ls) == 3:\n",
    "            ans+=1\n",
    "print ans"
   ]
  },
  {
   "cell_type": "code",
   "execution_count": 82,
   "metadata": {
    "collapsed": false
   },
   "outputs": [
    {
     "name": "stdout",
     "output_type": "stream",
     "text": [
      "{'40003': '400003',\n",
      " '4000607': '400607',\n",
      " '40013': '400013',\n",
      " '40049': '400049',\n",
      " '40058': '400058'}\n"
     ]
    }
   ],
   "source": [
    "postal_code_map = {}\n",
    "postal_code_map['40003'] = '400003'\n",
    "postal_code_map['40013'] = '400013'\n",
    "postal_code_map['4000607'] = '400607'\n",
    "postal_code_map['40049'] = '400049'\n",
    "postal_code_map['40058'] = '400058'\n",
    "pprint.pprint(postal_code_map)"
   ]
  },
  {
   "cell_type": "code",
   "execution_count": 3,
   "metadata": {
    "collapsed": false
   },
   "outputs": [
    {
     "name": "stdout",
     "output_type": "stream",
     "text": [
      "['changeset', 'uid', 'timestamp', 'lon', 'version', 'user', 'lat', 'id']\n"
     ]
    }
   ],
   "source": [
    "node_attrib = []\n",
    "for event, element in ET.iterparse(filename):\n",
    "    if element.tag == 'node':\n",
    "        for attrib in element.attrib:\n",
    "            if attrib not in node_attrib:\n",
    "                node_attrib.append(attrib)\n",
    "pprint.pprint(node_attrib)            \n",
    "        "
   ]
  },
  {
   "cell_type": "code",
   "execution_count": 4,
   "metadata": {
    "collapsed": false
   },
   "outputs": [
    {
     "name": "stdout",
     "output_type": "stream",
     "text": [
      "['changeset', 'uid', 'timestamp', 'version', 'user', 'id']\n"
     ]
    }
   ],
   "source": [
    "way_attrib = []\n",
    "for event, element in ET.iterparse(filename):\n",
    "    if element.tag == 'way':\n",
    "        for attrib in element.attrib:\n",
    "            if attrib not in way_attrib:\n",
    "                way_attrib.append(attrib)\n",
    "pprint.pprint(way_attrib)   "
   ]
  },
  {
   "cell_type": "code",
   "execution_count": 91,
   "metadata": {
    "collapsed": false
   },
   "outputs": [],
   "source": [
    "def insert_tag(child, indiv):\n",
    "    name_list = child.attrib['k'].split(\":\")\n",
    "    colon_name  = name_list[0]\n",
    "    key = child.attrib['k'].replace(colon_name + ':', '')\n",
    "    \n",
    "    if colon_name == 'name':\n",
    "            key = name_matches[key]    \n",
    "            if key == None:\n",
    "                return\n",
    "    temp = {key : child.attrib['v']}\n",
    "    \n",
    "    try:           \n",
    "        indiv[colon_name][key] = child.attrib['v']\n",
    "    except:\n",
    "        indiv[colon_name] = temp\n",
    "\n",
    "        \n",
    "final_list = []\n",
    "\n",
    "for event, element in ET.iterparse(filename):\n",
    "        \n",
    "    if element.tag in ['way', 'node']:\n",
    "        indiv = {}\n",
    "        pos = []\n",
    "        ref = []\n",
    "        indiv['Element'] = element.tag\n",
    "        for attrib in element.attrib:\n",
    "            \n",
    "            if attrib in ['version', 'changeset', 'user', 'uid', 'timestamp']:\n",
    "                try:\n",
    "                    indiv['created'][attrib] = element.attrib[attrib]\n",
    "                except:\n",
    "                    indiv['created'] = {}\n",
    "                    indiv['created'][attrib] = element.attrib[attrib]           \n",
    "                    \n",
    "            elif attrib == 'lat':\n",
    "                pos.insert(0, element.attrib['lat'])\n",
    "                if len(pos) == 2:\n",
    "                    indiv['pos'] = pos\n",
    "            elif attrib == 'lon':\n",
    "                pos.append(float(element.attrib['lon']))\n",
    "                if len(pos) == 2:\n",
    "                    indiv['pos'] = pos\n",
    "                    \n",
    "            else:\n",
    "                indiv[attrib] = element.attrib[attrib]\n",
    "        \n",
    "        for child in element:\n",
    "            if child.tag in ['tag', 'nd']:\n",
    "                \n",
    "                if child.tag == 'member':\n",
    "                    insert_member(child, indiv)\n",
    "                \n",
    "                if child.tag == 'nd':                    \n",
    "                    ref.append(child.attrib['ref'])                    \n",
    "                    if(ref):\n",
    "                        indiv['ref'] = ref\n",
    "                \n",
    "                if child.tag == 'tag':                    \n",
    "                        \n",
    "                    if child.attrib['k'] in ['postal_code', 'addr:postcode', 'postcode']:\n",
    "                        if child.attrib['v'] in postal_code_map.keys():\n",
    "                            postal_code_clean = postal_code_map[child.attrib['v']]\n",
    "                            \n",
    "                        elif ' ' in child.attrib['v']:\n",
    "                            postal_code_clean = child.attrib['v']\n",
    "                            postal_code_clean = postal_code_clean.replace(' ','')\n",
    "                                \n",
    "                        elif ',' in child.attrib['v']:\n",
    "                            postal_code_clean_ls = child.attrib['v'].split(',')\n",
    "                            postal_code_clean = postal_code_clean_ls[0]\n",
    "                                \n",
    "                        else:\n",
    "                            postal_code_clean = child.attrib['v']\n",
    "                            \n",
    "                        indiv['Postal Code'] = postal_code_clean\n",
    "                            \n",
    "                    elif child.attrib['k'] == 'population':\n",
    "                        indiv['Population'] = float(child.attrib['v'])                            \n",
    "                        \n",
    "                    elif child.attrib['k'] in colon_keys_map.keys():\n",
    "                        indiv[colon_keys_map[child.attrib['k']]] = child.attrib['v']\n",
    "                            \n",
    "                    elif \":\" in child.attrib['k']:\n",
    "                        insert_tag(child, indiv)\n",
    "                        \n",
    "                    else:\n",
    "                        indiv[child.attrib['k']] = child.attrib['v']    \n",
    "                    \n",
    "            \n",
    "         \n",
    "        if(indiv):\n",
    "            final_list.append(indiv)            \n",
    "            \n"
   ]
  },
  {
   "cell_type": "code",
   "execution_count": 92,
   "metadata": {
    "collapsed": true
   },
   "outputs": [],
   "source": [
    "import json\n",
    "with open('data-wrangling-mongo-db.json', 'w') as final:\n",
    "    json.dump(final_list, final)"
   ]
  },
  {
   "cell_type": "code",
   "execution_count": 93,
   "metadata": {
    "collapsed": false
   },
   "outputs": [],
   "source": [
    "import pymongo\n",
    "import json\n",
    "connection = pymongo.MongoClient(\"mongodb://localhost\")\n",
    "db = connection.osm_data\n",
    "record = db.mumbai_data\n",
    "mumbai_data  = open('data-wrangling-mongo-db.json', 'r')\n",
    "parsed_mumbai_data = json.loads(mumbai_data.read())\n",
    "\n",
    "for entry in parsed_mumbai_data:\n",
    "    record.insert_one(entry)"
   ]
  },
  {
   "cell_type": "code",
   "execution_count": 94,
   "metadata": {
    "collapsed": false
   },
   "outputs": [
    {
     "data": {
      "text/plain": [
       "510456"
      ]
     },
     "execution_count": 94,
     "metadata": {},
     "output_type": "execute_result"
    }
   ],
   "source": [
    "record.find().count()"
   ]
  },
  {
   "cell_type": "code",
   "execution_count": 95,
   "metadata": {
    "collapsed": false
   },
   "outputs": [
    {
     "name": "stdout",
     "output_type": "stream",
     "text": [
      "{u'Current_name': u'Mumbai',\n",
      " u'Element': u'node',\n",
      " u'Place': u'city',\n",
      " u'Population': 13662885.0,\n",
      " u'Source': u'http://en.wikipedia.org/wiki/Mumbai',\n",
      " u'_id': ObjectId('57c703d52da86022440d198c'),\n",
      " u'admin_level': u'4',\n",
      " u'created': {u'changeset': u'18660349',\n",
      "              u'timestamp': u'2013-11-01T22:11:09Z',\n",
      "              u'uid': u'1306',\n",
      "              u'user': u'PlaneMad',\n",
      "              u'version': u'31'},\n",
      " u'ele': u'8',\n",
      " u'id': u'16173235',\n",
      " u'is_capital': u'state',\n",
      " u'is_in': {u'continent': u'Asia',\n",
      "            u'country': u'India',\n",
      "            u'country_code': u'IN',\n",
      "            u'state': u'Maharashtra'},\n",
      " u'name': {u'Bengali': u'\\u09ae\\u09c1\\u09ae\\u09cd\\u09ac\\u0987',\n",
      "           u'Czech': u'Bombaj',\n",
      "           u'English': u'Mumbai',\n",
      "           u'French': u'Bombay',\n",
      "           u'German': u'Mumbai',\n",
      "           u'Gujrati': u'\\u0aae\\u0ac1\\u0a82\\u0aac\\u0a88',\n",
      "           u'Hindi': u'\\u092e\\u0941\\u0902\\u092c\\u0908',\n",
      "           u'Kanada': u'\\u0cae\\u0cc1\\u0c82\\u0cac\\u0cc8',\n",
      "           u'Lobjan': u'.mumbais.',\n",
      "           u'Marathi': u'\\u092e\\u0941\\u0902\\u092c\\u0908',\n",
      "           u'Russian': u'\\u041c\\u0443\\u043c\\u0431\\u0430\\u0438',\n",
      "           u'Serbian': u'\\u041c\\u0443\\u043c\\u0431\\u0430\\u0458',\n",
      "           u'Slovak': u'Bombaj',\n",
      "           u'Spanish': u'Bombay',\n",
      "           u'Tamil': u'\\u0bae\\u0bc1\\u0bae\\u0bcd\\u0baa\\u0bc8',\n",
      "           u'Telugu': u'\\u0c2e\\u0c41\\u0c02\\u0c2c\\u0c48'},\n",
      " u'old_name': u'Bombay',\n",
      " u'place': {u'cca': u'a1'},\n",
      " u'pos': [u'18.9523804', 72.8327112],\n",
      " u'rank': u'0'}\n",
      "\n",
      "\n",
      "\n",
      "\n",
      "{u'Current_name': u'Chhatrapati Shivaji International Airport',\n",
      " u'Element': u'node',\n",
      " u'Is_in': u'Mumbai, Maharashtra,India',\n",
      " u'Source': u'Gagravarr_Airports',\n",
      " u'_id': ObjectId('57c703d72da86022440d198d'),\n",
      " u'aerodrome': u'international',\n",
      " u'aeroway': u'aerodrome',\n",
      " u'created': {u'changeset': u'12375819',\n",
      "              u'timestamp': u'2012-07-20T12:24:48Z',\n",
      "              u'uid': u'16135',\n",
      "              u'user': u'nimix',\n",
      "              u'version': u'11'},\n",
      " u'iata': u'BOM',\n",
      " u'icao': u'VABB',\n",
      " u'id': u'26609008',\n",
      " u'is_in': {u'country': u'India'},\n",
      " u'passengers': u'28137717',\n",
      " u'pos': [u'19.0895145', 72.8650825],\n",
      " u'type': u'civil'}\n",
      "\n",
      "\n",
      "\n",
      "\n",
      "{u'Element': u'node',\n",
      " u'_id': ObjectId('57c703d72da86022440d198e'),\n",
      " u'created': {u'changeset': u'3225476',\n",
      "              u'timestamp': u'2009-11-27T05:01:03Z',\n",
      "              u'uid': u'17497',\n",
      "              u'user': u'katpatuka',\n",
      "              u'version': u'5'},\n",
      " u'id': u'30517892',\n",
      " u'pos': [u'18.9795707', 73.0774771]}\n",
      "\n",
      "\n",
      "\n",
      "\n",
      "{u'Element': u'node',\n",
      " u'_id': ObjectId('57c703d72da86022440d198f'),\n",
      " u'created': {u'changeset': u'3225476',\n",
      "              u'timestamp': u'2009-11-27T05:01:04Z',\n",
      "              u'uid': u'17497',\n",
      "              u'user': u'katpatuka',\n",
      "              u'version': u'5'},\n",
      " u'id': u'30517895',\n",
      " u'pos': [u'18.9821882', 73.0882167]}\n",
      "\n",
      "\n",
      "\n",
      "\n",
      "{u'Element': u'node',\n",
      " u'_id': ObjectId('57c703d72da86022440d1990'),\n",
      " u'created': {u'changeset': u'545199',\n",
      "              u'timestamp': u'2008-01-05T16:32:19Z',\n",
      "              u'uid': u'1164',\n",
      "              u'user': u'dmgroom',\n",
      "              u'version': u'4'},\n",
      " u'created_by': u'JOSM',\n",
      " u'id': u'30517898',\n",
      " u'pos': [u'18.9777895', 73.0971373]}\n",
      "\n",
      "\n",
      "\n",
      "\n"
     ]
    }
   ],
   "source": [
    "import pprint\n",
    "i = 0\n",
    "for data in record.find():\n",
    "    pprint.pprint(data)\n",
    "    print '\\n\\n\\n'\n",
    "    i+=1\n",
    "    if i == 5:\n",
    "        break"
   ]
  },
  {
   "cell_type": "code",
   "execution_count": 96,
   "metadata": {
    "collapsed": false
   },
   "outputs": [
    {
     "data": {
      "text/plain": [
       "1985"
      ]
     },
     "execution_count": 96,
     "metadata": {},
     "output_type": "execute_result"
    }
   ],
   "source": [
    "record.find({\"$or\" : [{\"amenity\" : {\"$exists\" : 1}}, {\"Amenity\" : {\"$exists\" : 1}}]}).count()"
   ]
  },
  {
   "cell_type": "code",
   "execution_count": 97,
   "metadata": {
    "collapsed": false
   },
   "outputs": [
    {
     "name": "stdout",
     "output_type": "stream",
     "text": [
      "{u'_id': None, u'count': 508472}\n",
      "{u'_id': u'place_of_worship', u'count': 246}\n",
      "{u'_id': u'school', u'count': 211}\n",
      "{u'_id': u'restaurant', u'count': 161}\n",
      "{u'_id': u'bank', u'count': 134}\n",
      "{u'_id': u'parking', u'count': 117}\n",
      "{u'_id': u'hospital', u'count': 110}\n",
      "{u'_id': u'bus_station', u'count': 102}\n",
      "{u'_id': u'fuel', u'count': 100}\n",
      "{u'_id': u'college', u'count': 83}\n",
      "{u'_id': u'fast_food', u'count': 66}\n",
      "{u'_id': u'police', u'count': 57}\n",
      "{u'_id': u'cafe', u'count': 55}\n",
      "{u'_id': u'atm', u'count': 51}\n",
      "{u'_id': u'cinema', u'count': 50}\n",
      "{u'_id': u'swimming_pool', u'count': 48}\n",
      "{u'_id': u'post_office', u'count': 40}\n",
      "{u'_id': u'pharmacy', u'count': 36}\n",
      "{u'_id': u'toilets', u'count': 35}\n",
      "{u'_id': u'marketplace', u'count': 27}\n",
      "{u'_id': u'public_building', u'count': 22}\n",
      "{u'_id': u'fire_station', u'count': 21}\n",
      "{u'_id': u'theatre', u'count': 17}\n",
      "{u'_id': u'post_box', u'count': 14}\n",
      "{u'_id': u'ferry_terminal', u'count': 13}\n",
      "{u'_id': u'parking;fuel', u'count': 12}\n",
      "{u'_id': u'university', u'count': 12}\n",
      "{u'_id': u'taxi', u'count': 12}\n",
      "{u'_id': u'community_centre', u'count': 11}\n",
      "{u'_id': u'library', u'count': 10}\n",
      "{u'_id': u'bar', u'count': 9}\n",
      "{u'_id': u'clinic', u'count': 8}\n",
      "{u'_id': u'pub', u'count': 7}\n",
      "{u'_id': u'bench', u'count': 6}\n",
      "{u'_id': u'courthouse', u'count': 6}\n",
      "{u'_id': u'fountain', u'count': 5}\n",
      "{u'_id': u'drinking_water', u'count': 5}\n",
      "{u'_id': u'townhall', u'count': 5}\n",
      "{u'_id': u'prison', u'count': 4}\n",
      "{u'_id': u'kindergarten', u'count': 4}\n",
      "{u'_id': u'food_court', u'count': 4}\n",
      "{u'_id': u'restroom', u'count': 4}\n",
      "{u'_id': u'grave_yard', u'count': 4}\n",
      "{u'_id': u'telephone', u'count': 3}\n",
      "{u'_id': u'vending_machine', u'count': 2}\n",
      "{u'_id': u'gym', u'count': 2}\n",
      "{u'_id': u'bicycle_rental', u'count': 2}\n",
      "{u'_id': u'car_wash', u'count': 2}\n",
      "{u'_id': u'fuel; kiosk', u'count': 2}\n",
      "{u'_id': u'market', u'count': 1}\n",
      "{u'_id': u'doctors', u'count': 1}\n",
      "{u'_id': u'cyber_cafe', u'count': 1}\n",
      "{u'_id': u'ice_cream', u'count': 1}\n",
      "{u'_id': u'shelter', u'count': 1}\n",
      "{u'_id': u'studio', u'count': 1}\n",
      "{u'_id': u'crematorium', u'count': 1}\n",
      "{u'_id': u'tea_shop', u'count': 1}\n",
      "{u'_id': u'Society', u'count': 1}\n",
      "{u'_id': u'arts_centre', u'count': 1}\n",
      "{u'_id': u'club', u'count': 1}\n",
      "{u'_id': u'water', u'count': 1}\n",
      "{u'_id': u'shop', u'count': 1}\n",
      "{u'_id': u'cold_storage', u'count': 1}\n",
      "{u'_id': u'picnic spot', u'count': 1}\n",
      "{u'_id': u'bureau_de_change', u'count': 1}\n",
      "{u'_id': u'nightclub', u'count': 1}\n",
      "{u'_id': u'waste_transfer_station', u'count': 1}\n",
      "{u'_id': u'pl', u'count': 1}\n",
      "{u'_id': u'fairgrounds', u'count': 1}\n",
      "{u'_id': u'social_centre', u'count': 1}\n",
      "{u'_id': u'social_facility', u'count': 1}\n",
      "{u'_id': u'Educational Complex', u'count': 1}\n",
      "{u'_id': u'Canteen', u'count': 1}\n",
      "{u'_id': u'Workshop', u'count': 1}\n",
      "{u'_id': u'creamatorium', u'count': 1}\n",
      "{u'_id': u'Gymkhana', u'count': 1}\n"
     ]
    }
   ],
   "source": [
    "amenity_data = record.aggregate([\n",
    "        {\"$group\" : {\"_id\" : \"$amenity\",\n",
    "                    \"count\" : {\"$sum\" : 1}}},\n",
    "        {\"$sort\" : {\"count\" : -1}}\n",
    "    ])\n",
    "for doc in amenity_data:\n",
    "    pprint.pprint(doc)"
   ]
  },
  {
   "cell_type": "code",
   "execution_count": 98,
   "metadata": {
    "collapsed": false
   },
   "outputs": [
    {
     "name": "stdout",
     "output_type": "stream",
     "text": [
      "{u'_id': None, u'count': 510176}\n",
      "{u'_id': u'hotel', u'count': 181}\n",
      "{u'_id': u'hostel', u'count': 24}\n",
      "{u'_id': u'attraction', u'count': 24}\n",
      "{u'_id': u'viewpoint', u'count': 23}\n",
      "{u'_id': u'guest_house', u'count': 10}\n",
      "{u'_id': u'museum', u'count': 7}\n",
      "{u'_id': u'theme_park', u'count': 4}\n",
      "{u'_id': u'Byramjee Jeejeebhoy Point', u'count': 1}\n",
      "{u'_id': u'The Wall', u'count': 1}\n",
      "{u'_id': u'picnic_site', u'count': 1}\n",
      "{u'_id': u'information', u'count': 1}\n",
      "{u'_id': u'motel', u'count': 1}\n",
      "{u'_id': u'camp_site', u'count': 1}\n",
      "{u'_id': u'zoo', u'count': 1}\n"
     ]
    }
   ],
   "source": [
    "tourism_data = record.aggregate([\n",
    "        {\"$group\" : {\"_id\" : \"$tourism\",\n",
    "                    \"count\" : {\"$sum\" : 1}}},\n",
    "        {\"$sort\" : {\"count\" : -1}}\n",
    "    ])\n",
    "for doc in tourism_data:\n",
    "    pprint.pprint(doc)"
   ]
  },
  {
   "cell_type": "code",
   "execution_count": 104,
   "metadata": {
    "collapsed": false
   },
   "outputs": [
    {
     "data": {
      "text/plain": [
       "19"
      ]
     },
     "execution_count": 104,
     "metadata": {},
     "output_type": "execute_result"
    }
   ],
   "source": [
    "record.find({\"Population\" : {\"$exists\" : 1}}).count()"
   ]
  },
  {
   "cell_type": "code",
   "execution_count": 107,
   "metadata": {
    "collapsed": false
   },
   "outputs": [
    {
     "name": "stdout",
     "output_type": "stream",
     "text": [
      "{u'_id': u'PlaneMad', u'count': 65571}\n",
      "{u'_id': u'MJL Wood', u'count': 61257}\n",
      "{u'_id': u'balaji88', u'count': 59941}\n",
      "{u'_id': u'parambyte', u'count': 45287}\n",
      "{u'_id': u'udaya', u'count': 44663}\n",
      "{u'_id': u'smith_dsm', u'count': 39375}\n",
      "{u'_id': u'Giyavudeen', u'count': 30007}\n",
      "{u'_id': u'indigomc', u'count': 19682}\n",
      "{u'_id': u'shekhar', u'count': 13296}\n",
      "{u'_id': u'Moorthy1', u'count': 11864}\n",
      "{u'_id': u'singleton', u'count': 10324}\n",
      "{u'_id': u'PremK', u'count': 10180}\n",
      "{u'_id': u'dmgroom_coastlines', u'count': 7880}\n",
      "{u'_id': u'gaurav jain', u'count': 7754}\n",
      "{u'_id': u'Heinz_V', u'count': 6907}\n",
      "{u'_id': u'Oberaffe', u'count': 6393}\n",
      "{u'_id': u'Meghanand', u'count': 6135}\n",
      "{u'_id': u'Shekhar11', u'count': 4717}\n",
      "{u'_id': u'jain zachariah', u'count': 4545}\n",
      "{u'_id': u'katpatuka', u'count': 4402}\n"
     ]
    }
   ],
   "source": [
    "user_data = record.aggregate([\n",
    "        {\"$group\" : {\"_id\" : \"$created.user\",\n",
    "                    \"count\" : {\"$sum\" : 1}}},\n",
    "        {\"$sort\" : {\"count\" : -1}},\n",
    "        {\"$limit\" : 20}\n",
    "    ])\n",
    "for user in user_data:\n",
    "    pprint.pprint(user)"
   ]
  },
  {
   "cell_type": "code",
   "execution_count": 108,
   "metadata": {
    "collapsed": false
   },
   "outputs": [
    {
     "name": "stdout",
     "output_type": "stream",
     "text": [
      "{u'_id': None, u'count': 510239}\n",
      "{u'_id': u'hindu', u'count': 82}\n",
      "{u'_id': u'muslim', u'count': 55}\n",
      "{u'_id': u'christian', u'count': 47}\n",
      "{u'_id': u'zoroastrian', u'count': 11}\n",
      "{u'_id': u'jewish', u'count': 7}\n",
      "{u'_id': u'jain', u'count': 6}\n",
      "{u'_id': u'sikh', u'count': 5}\n",
      "{u'_id': u'buddhist', u'count': 2}\n",
      "{u'_id': u'Jain', u'count': 1}\n",
      "{u'_id': u'hare_krishna', u'count': 1}\n"
     ]
    }
   ],
   "source": [
    "religion_data = record.aggregate([\n",
    "        {\"$group\" : {\"_id\" : \"$religion\",\n",
    "                    \"count\" : {\"$sum\" : 1}}},\n",
    "        {\"$sort\" : {\"count\" : -1}}\n",
    "    ])\n",
    "for doc in religion_data:\n",
    "    pprint.pprint(doc)"
   ]
  },
  {
   "cell_type": "code",
   "execution_count": 109,
   "metadata": {
    "collapsed": true
   },
   "outputs": [],
   "source": [
    "counter = 0\n",
    "sample_list = []\n",
    "for dictry in final_list:\n",
    "    sample_list.append(dictry)\n",
    "    counter+=10\n",
    "    if counter >= len(final_list):\n",
    "        break"
   ]
  },
  {
   "cell_type": "code",
   "execution_count": 110,
   "metadata": {
    "collapsed": false
   },
   "outputs": [
    {
     "data": {
      "text/plain": [
       "51046"
      ]
     },
     "execution_count": 110,
     "metadata": {},
     "output_type": "execute_result"
    }
   ],
   "source": [
    "len(sample_list)"
   ]
  },
  {
   "cell_type": "code",
   "execution_count": 112,
   "metadata": {
    "collapsed": true
   },
   "outputs": [],
   "source": [
    "with open('data-wrangling-mongo-db-sample.json', 'w') as sample:\n",
    "    json.dump(sample_list, sample)"
   ]
  }
 ],
 "metadata": {
  "kernelspec": {
   "display_name": "Python 2",
   "language": "python",
   "name": "python2"
  },
  "language_info": {
   "codemirror_mode": {
    "name": "ipython",
    "version": 2
   },
   "file_extension": ".py",
   "mimetype": "text/x-python",
   "name": "python",
   "nbconvert_exporter": "python",
   "pygments_lexer": "ipython2",
   "version": "2.7.12"
  }
 },
 "nbformat": 4,
 "nbformat_minor": 0
}
